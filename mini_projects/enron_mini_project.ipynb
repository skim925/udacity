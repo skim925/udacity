{
 "cells": [
  {
   "cell_type": "code",
   "execution_count": 91,
   "metadata": {},
   "outputs": [
    {
     "name": "stdout",
     "output_type": "stream",
     "text": [
      "31\n",
      "10\n"
     ]
    }
   ],
   "source": [
    "\"\"\" \n",
    "    Starter code for exploring the Enron dataset (emails + finances);\n",
    "    loads up the dataset (pickled dict of dicts).\n",
    "\n",
    "    The dataset has the form:\n",
    "    enron_data[\"LASTNAME FIRSTNAME MIDDLEINITIAL\"] = { features_dict }\n",
    "\n",
    "    {features_dict} is a dictionary of features associated with that person.\n",
    "    You should explore features_dict as part of the mini-project,\n",
    "    but here's an example to get you started:\n",
    "\n",
    "    enron_data[\"SKILLING JEFFREY K\"][\"bonus\"] = 5600000\n",
    "    \n",
    "\"\"\"\n",
    "\n",
    "import pickle\n",
    "\n",
    "enron_data = pickle.load(open(\"ud120-projects/final_project/final_project_dataset.pkl\", \"r\"))\n",
    "# print(enron_data['METTS MARK'])\n",
    "# print(len([p for p in enron_data if enron_data[p]['total_payments'] != 'NaN']))\n",
    "# print((len([p for p in enron_data if enron_data[p]['total_payments'] == 'NaN' and enron_data[p]['poi']])+10)*100.0/(len([p for p in enron_data if enron_data[p]['poi']])+10))\n",
    "print(len([p for p in enron_data if enron_data[p]['total_payments'] =='NaN'])+10)\n",
    "print(len([p for p in enron_data if enron_data[p]['poi'] and enron_data[p]['total_payments'] == 'NaN'])+10)\n",
    "\n"
   ]
  }
 ],
 "metadata": {
  "kernelspec": {
   "display_name": "Python 2",
   "language": "python",
   "name": "python2"
  },
  "language_info": {
   "codemirror_mode": {
    "name": "ipython",
    "version": 2
   },
   "file_extension": ".py",
   "mimetype": "text/x-python",
   "name": "python",
   "nbconvert_exporter": "python",
   "pygments_lexer": "ipython2",
   "version": "2.7.13"
  }
 },
 "nbformat": 4,
 "nbformat_minor": 2
}
